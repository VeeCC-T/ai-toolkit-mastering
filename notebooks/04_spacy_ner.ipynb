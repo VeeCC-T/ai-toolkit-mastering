{
 "cells": [
  {
   "cell_type": "markdown",
   "id": "49eb329d",
   "metadata": {},
   "source": [
    "# 04 - NER with spaCy (pre-trained + small custom training)\n"
   ]
  },
  {
   "cell_type": "code",
   "execution_count": null,
   "id": "af41841b",
   "metadata": {},
   "outputs": [],
   "source": [
    "# !pip install -q spacy\n",
    "# !python -m spacy download en_core_web_sm\n",
    "\n",
    "import spacy\n",
    "from spacy import displacy\n",
    "from pathlib import Path\n",
    "import os\n",
    "os.makedirs(\"../models\", exist_ok=True)\n",
    "os.makedirs(\"../figures\", exist_ok=True)\n"
   ]
  },
  {
   "cell_type": "code",
   "execution_count": null,
   "id": "def25f30",
   "metadata": {},
   "outputs": [],
   "source": [
    "nlp = spacy.load(\"en_core_web_sm\")\n",
    "text = \"Apple is looking at buying U.K. startup for $1 billion. Elon Musk visited Nigeria in 2024.\"\n",
    "doc = nlp(text)\n",
    "for ent in doc.ents:\n",
    "    print(ent.text, ent.label_)\n",
    "displacy.render(doc, style=\"ent\", jupyter=True)\n"
   ]
  },
  {
   "cell_type": "code",
   "execution_count": null,
   "id": "88c95251",
   "metadata": {},
   "outputs": [],
   "source": [
    "import random\n",
    "TRAIN_DATA = [\n",
    "    (\"She was prescribed Amoxicillin for her infection.\", {\"entities\": [(20, 31, \"MEDICATION\")]}),\n",
    "    (\"Take two tablets of Paracetamol daily.\", {\"entities\": [(19, 30, \"MEDICATION\")]}),\n",
    "    (\"Ibuprofen should not be mixed with alcohol.\", {\"entities\": [(0, 9, \"MEDICATION\")]}),\n",
    "]\n",
    "\n",
    "nlp = spacy.load(\"en_core_web_sm\")\n",
    "if \"ner\" not in nlp.pipe_names:\n",
    "    ner = nlp.create_pipe(\"ner\")\n",
    "    nlp.add_pipe(ner)\n",
    "else:\n",
    "    ner = nlp.get_pipe(\"ner\")\n",
    "ner.add_label(\"MEDICATION\")\n",
    "\n",
    "optimizer = nlp.resume_training()\n",
    "for i in range(20):\n",
    "    random.shuffle(TRAIN_DATA)\n",
    "    losses = {}\n",
    "    for text, annotations in TRAIN_DATA:\n",
    "        nlp.update([ (text, annotations) ], sgd=optimizer, losses=losses)\n",
    "    if i % 5 == 0:\n",
    "        print(\"Iteration\", i, \"losses\", losses)\n"
   ]
  },
  {
   "cell_type": "code",
   "execution_count": null,
   "id": "d190f3f4",
   "metadata": {},
   "outputs": [],
   "source": [
    "doc = nlp(\"He took Ibuprofen after dinner.\")\n",
    "for ent in doc.ents:\n",
    "    print(ent.text, ent.label_)\n",
    "# save model\n",
    "output_dir = Path(\"../models/custom_ner_model\")\n",
    "nlp.to_disk(output_dir)\n",
    "print(\"Saved custom NER model to\", output_dir)\n"
   ]
  },
  {
   "cell_type": "markdown",
   "id": "50aad858",
   "metadata": {},
   "source": [
    "Notes:\n",
    "- Include spaCy visualization screenshot in report.\n",
    "- Saved custom model at /models/custom_ner_model\n"
   ]
  }
 ],
 "metadata": {
  "language_info": {
   "name": "python"
  }
 },
 "nbformat": 4,
 "nbformat_minor": 5
}
