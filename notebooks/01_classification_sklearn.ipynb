{
 "cells": [
  {
   "cell_type": "markdown",
   "id": "dedcfc20",
   "metadata": {},
   "source": [
    "# 01 - Classification with Scikit-learn\n",
    "\n",
    "This notebook demonstrates:\n",
    "- Loading the Iris dataset\n",
    "- EDA, train/test split\n",
    "- Pipeline (StandardScaler + RandomForest)\n",
    "- Evaluation: accuracy, confusion matrix, classification report\n",
    "- Saving figures and model for the report\n"
   ]
  },
  {
   "cell_type": "code",
   "execution_count": null,
   "id": "ed21a333",
   "metadata": {},
   "outputs": [],
   "source": [
    "# Install (uncomment if running in new environment)\n",
    "# !pip install -q scikit-learn matplotlib seaborn pandas joblib\n",
    "\n",
    "import pandas as pd\n",
    "import numpy as np\n",
    "import seaborn as sns\n",
    "import matplotlib.pyplot as plt\n",
    "from sklearn.datasets import load_iris\n",
    "from sklearn.model_selection import train_test_split\n",
    "from sklearn.preprocessing import StandardScaler\n",
    "from sklearn.ensemble import RandomForestClassifier\n",
    "from sklearn.pipeline import Pipeline\n",
    "from sklearn.metrics import accuracy_score, confusion_matrix, classification_report, ConfusionMatrixDisplay\n",
    "import joblib\n",
    "import os\n",
    "\n",
    "os.makedirs(\"../figures\", exist_ok=True)  # adjust path if saving in repo root\n",
    "os.makedirs(\"../models\", exist_ok=True)\n"
   ]
  },
  {
   "cell_type": "code",
   "execution_count": null,
   "id": "e173a73c",
   "metadata": {},
   "outputs": [],
   "source": [
    "iris = load_iris()\n",
    "X = iris.data\n",
    "y = iris.target\n",
    "df = pd.DataFrame(X, columns=iris.feature_names)\n",
    "df['target'] = y\n",
    "display(df.head())\n",
    "print(\"Class counts:\\n\", df['target'].value_counts())\n"
   ]
  },
  {
   "cell_type": "code",
   "execution_count": null,
   "id": "97a67345",
   "metadata": {},
   "outputs": [],
   "source": [
    "X_train, X_test, y_train, y_test = train_test_split(X, y, test_size=0.2, random_state=42)\n",
    "\n",
    "pipeline = Pipeline([\n",
    "    ('scaler', StandardScaler()),\n",
    "    ('model', RandomForestClassifier(n_estimators=100, random_state=42))\n",
    "])\n",
    "\n",
    "pipeline.fit(X_train, y_train)\n",
    "y_pred = pipeline.predict(X_test)\n"
   ]
  },
  {
   "cell_type": "code",
   "execution_count": null,
   "id": "7289923d",
   "metadata": {},
   "outputs": [],
   "source": [
    "accuracy = accuracy_score(y_test, y_pred)\n",
    "print(\"Accuracy:\", accuracy)\n",
    "print(classification_report(y_test, y_pred))\n",
    "\n",
    "cm = confusion_matrix(y_test, y_pred)\n",
    "disp = ConfusionMatrixDisplay(confusion_matrix=cm, display_labels=iris.target_names)\n",
    "disp.plot(cmap=\"Blues\")\n",
    "plt.title(\"Confusion Matrix - Iris\")\n",
    "plt.savefig(\"../figures/sklearn_confusion_matrix.png\", dpi=150)\n",
    "plt.show()\n"
   ]
  },
  {
   "cell_type": "code",
   "execution_count": null,
   "id": "3365a483",
   "metadata": {},
   "outputs": [],
   "source": [
    "model = pipeline.named_steps['model']\n",
    "importances = model.feature_importances_\n",
    "features = iris.feature_names\n",
    "\n",
    "plt.figure(figsize=(6,4))\n",
    "sns.barplot(x=importances, y=features)\n",
    "plt.title(\"Feature Importances (RandomForest)\")\n",
    "plt.tight_layout()\n",
    "plt.savefig(\"../figures/sklearn_feature_importance.png\", dpi=150)\n",
    "plt.show()\n",
    "\n",
    "joblib.dump(pipeline, \"../models/iris_randomforest.pkl\")\n",
    "print(\"Saved model to ../models/iris_randomforest.pkl\")\n"
   ]
  },
  {
   "cell_type": "markdown",
   "id": "d594f72d",
   "metadata": {},
   "source": [
    "Notes:\n",
    "- Figures saved to `/figures/`\n",
    "- Model saved to `/models/`\n",
    "- Copy accuracy and classification_report outputs into your PDF report.\n"
   ]
  }
 ],
 "metadata": {
  "language_info": {
   "name": "python"
  }
 },
 "nbformat": 4,
 "nbformat_minor": 5
}
